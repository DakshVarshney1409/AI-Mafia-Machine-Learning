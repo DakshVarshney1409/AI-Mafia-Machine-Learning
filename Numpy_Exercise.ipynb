{
 "cells": [
  {
   "cell_type": "markdown",
   "metadata": {},
   "source": [
    "# Numpy Exercise"
   ]
  },
  {
   "cell_type": "markdown",
   "metadata": {},
   "source": [
    "#### 1. Import the numpy package under the name as np  "
   ]
  },
  {
   "cell_type": "code",
   "execution_count": 1,
   "metadata": {},
   "outputs": [],
   "source": [
    "import numpy as np"
   ]
  },
  {
   "cell_type": "markdown",
   "metadata": {},
   "source": [
    "#### 2. Print the numpy version and the configuration "
   ]
  },
  {
   "cell_type": "code",
   "execution_count": 2,
   "metadata": {},
   "outputs": [
    {
     "name": "stdout",
     "output_type": "stream",
     "text": [
      "1.20.1\n",
      "blas_mkl_info:\n",
      "    libraries = ['mkl_rt']\n",
      "    library_dirs = ['C:/Users/Daksh/anaconda3\\\\Library\\\\lib']\n",
      "    define_macros = [('SCIPY_MKL_H', None), ('HAVE_CBLAS', None)]\n",
      "    include_dirs = ['C:/Users/Daksh/anaconda3\\\\Library\\\\include']\n",
      "blas_opt_info:\n",
      "    libraries = ['mkl_rt']\n",
      "    library_dirs = ['C:/Users/Daksh/anaconda3\\\\Library\\\\lib']\n",
      "    define_macros = [('SCIPY_MKL_H', None), ('HAVE_CBLAS', None)]\n",
      "    include_dirs = ['C:/Users/Daksh/anaconda3\\\\Library\\\\include']\n",
      "lapack_mkl_info:\n",
      "    libraries = ['mkl_rt']\n",
      "    library_dirs = ['C:/Users/Daksh/anaconda3\\\\Library\\\\lib']\n",
      "    define_macros = [('SCIPY_MKL_H', None), ('HAVE_CBLAS', None)]\n",
      "    include_dirs = ['C:/Users/Daksh/anaconda3\\\\Library\\\\include']\n",
      "lapack_opt_info:\n",
      "    libraries = ['mkl_rt']\n",
      "    library_dirs = ['C:/Users/Daksh/anaconda3\\\\Library\\\\lib']\n",
      "    define_macros = [('SCIPY_MKL_H', None), ('HAVE_CBLAS', None)]\n",
      "    include_dirs = ['C:/Users/Daksh/anaconda3\\\\Library\\\\include']\n",
      "None\n"
     ]
    }
   ],
   "source": [
    "print(np.__version__)\n",
    "print(np.show_config())"
   ]
  },
  {
   "cell_type": "markdown",
   "metadata": {},
   "source": [
    "#### 3. Create a null vector of size 10"
   ]
  },
  {
   "cell_type": "code",
   "execution_count": 3,
   "metadata": {},
   "outputs": [
    {
     "name": "stdout",
     "output_type": "stream",
     "text": [
      "[0. 0. 0. 0. 0. 0. 0. 0. 0. 0.]\n"
     ]
    }
   ],
   "source": [
    "vect=np.zeros(10)\n",
    "print(vect)"
   ]
  },
  {
   "cell_type": "markdown",
   "metadata": {},
   "source": [
    "#### 4.  How to find the memory size of any array"
   ]
  },
  {
   "cell_type": "markdown",
   "metadata": {},
   "source": [
    "First we calculate the size of the array by using the method .size and then calculate the size of single element of array using .itemsize. Then memory size is equal to (arr.size) * (arr.itemsize). For example, "
   ]
  },
  {
   "cell_type": "code",
   "execution_count": 4,
   "metadata": {},
   "outputs": [
    {
     "name": "stdout",
     "output_type": "stream",
     "text": [
      "9\n",
      "4\n",
      "36\n"
     ]
    }
   ],
   "source": [
    "arr=np.array([12,45,23,47,84,52,78,23,46])\n",
    "a=arr.size\n",
    "b=arr.itemsize\n",
    "c=a*b\n",
    "print(a)\n",
    "print(b)\n",
    "print(c)"
   ]
  },
  {
   "cell_type": "markdown",
   "metadata": {},
   "source": [
    "#### 5.  How to get the documentation of the numpy add function from the command line? "
   ]
  },
  {
   "cell_type": "code",
   "execution_count": 5,
   "metadata": {},
   "outputs": [],
   "source": [
    "np.add?"
   ]
  },
  {
   "cell_type": "markdown",
   "metadata": {},
   "source": [
    "#### 6.  Create a null vector of size 10 but the fifth value which is 1"
   ]
  },
  {
   "cell_type": "code",
   "execution_count": 6,
   "metadata": {},
   "outputs": [
    {
     "name": "stdout",
     "output_type": "stream",
     "text": [
      "[0. 0. 0. 0. 1. 0. 0. 0. 0. 0.]\n"
     ]
    }
   ],
   "source": [
    "arr1=np.zeros(10)\n",
    "arr1[4]=1\n",
    "print(arr1)"
   ]
  },
  {
   "cell_type": "markdown",
   "metadata": {},
   "source": [
    "#### 7.  Create a vector with values ranging from 10 to 49"
   ]
  },
  {
   "cell_type": "code",
   "execution_count": 7,
   "metadata": {},
   "outputs": [
    {
     "name": "stdout",
     "output_type": "stream",
     "text": [
      "[10 11 12 13 14 15 16 17 18 19 20 21 22 23 24 25 26 27 28 29 30 31 32 33\n",
      " 34 35 36 37 38 39 40 41 42 43 44 45 46 47 48]\n"
     ]
    }
   ],
   "source": [
    "arr2=np.arange(10,49)\n",
    "print(arr2)"
   ]
  },
  {
   "cell_type": "markdown",
   "metadata": {},
   "source": [
    "#### 8.  Reverse a vector (first element becomes last)"
   ]
  },
  {
   "cell_type": "code",
   "execution_count": 8,
   "metadata": {},
   "outputs": [
    {
     "name": "stdout",
     "output_type": "stream",
     "text": [
      "[48 47 46 45 44 43 42 41 40 39 38 37 36 35 34 33 32 31 30 29 28 27 26 25\n",
      " 24 23 22 21 20 19 18 17 16 15 14 13 12 11 10]\n"
     ]
    }
   ],
   "source": [
    "print(arr2[::-1])"
   ]
  },
  {
   "cell_type": "markdown",
   "metadata": {},
   "source": [
    "#### 9.  Create a 3x3 matrix with values ranging from 0 to 8"
   ]
  },
  {
   "cell_type": "code",
   "execution_count": 9,
   "metadata": {},
   "outputs": [
    {
     "name": "stdout",
     "output_type": "stream",
     "text": [
      "[[0. 1. 2.]\n",
      " [3. 4. 5.]\n",
      " [6. 7. 8.]]\n"
     ]
    }
   ],
   "source": [
    "arr3=np.linspace(0,8,9).reshape(3,3)\n",
    "print(arr3)"
   ]
  },
  {
   "cell_type": "markdown",
   "metadata": {},
   "source": [
    "#### 10. Find indices of non-zero elements from \\[1,2,0,0,4,0\\]"
   ]
  },
  {
   "cell_type": "code",
   "execution_count": 15,
   "metadata": {},
   "outputs": [
    {
     "name": "stdout",
     "output_type": "stream",
     "text": [
      "[[0]\n",
      " [1]\n",
      " [4]]\n"
     ]
    }
   ],
   "source": [
    "arr4=np.array([1,2,0,0,4,0])\n",
    "temp=np.transpose(np.nonzero(arr4))\n",
    "print(temp)"
   ]
  },
  {
   "cell_type": "markdown",
   "metadata": {},
   "source": [
    "#### 11. Create a 3x3 identity matrix"
   ]
  },
  {
   "cell_type": "code",
   "execution_count": 16,
   "metadata": {},
   "outputs": [
    {
     "name": "stdout",
     "output_type": "stream",
     "text": [
      "[[1. 0. 0.]\n",
      " [0. 1. 0.]\n",
      " [0. 0. 1.]]\n"
     ]
    }
   ],
   "source": [
    "arr5=np.eye(3)\n",
    "print(arr5)"
   ]
  },
  {
   "cell_type": "markdown",
   "metadata": {},
   "source": [
    "#### 12. Create a 3x3x3 array with random values"
   ]
  },
  {
   "cell_type": "code",
   "execution_count": 18,
   "metadata": {},
   "outputs": [
    {
     "name": "stdout",
     "output_type": "stream",
     "text": [
      "[[[0.34969071 1.44708548 9.61495271]\n",
      "  [6.51574209 9.95295317 8.65552078]\n",
      "  [1.06128632 7.57672795 1.03330748]]\n",
      "\n",
      " [[8.4436913  2.36003878 1.10273812]\n",
      "  [5.47359048 0.18144097 3.43643569]\n",
      "  [4.59674446 3.7811479  1.46249846]]\n",
      "\n",
      " [[2.03176693 7.94273503 2.76984138]\n",
      "  [3.850415   6.50871236 7.26289686]\n",
      "  [2.02281713 1.40741831 8.20058396]]]\n"
     ]
    }
   ],
   "source": [
    "arr6=np.random.random((3,3,3))\n",
    "print(10*arr6)"
   ]
  },
  {
   "cell_type": "markdown",
   "metadata": {},
   "source": [
    "#### 13. Create a 10x10 array with random values and find the minimum and maximum values"
   ]
  },
  {
   "cell_type": "code",
   "execution_count": 21,
   "metadata": {},
   "outputs": [
    {
     "name": "stdout",
     "output_type": "stream",
     "text": [
      "[[0.58902965 0.30317686 0.25880718 0.86979457 0.09908722 0.89934791\n",
      "  0.38018337 0.43049275 0.52109819 0.96495472]\n",
      " [0.92516113 0.44734544 0.21615836 0.55730963 0.1819173  0.85138622\n",
      "  0.66469862 0.1983807  0.63079396 0.8752388 ]\n",
      " [0.68403402 0.58087295 0.78267928 0.55052829 0.0920182  0.57952567\n",
      "  0.74116478 0.38871913 0.15090484 0.18538197]\n",
      " [0.13871773 0.05818499 0.20787396 0.96835905 0.38518264 0.36384205\n",
      "  0.93867697 0.48657391 0.28550958 0.96662877]\n",
      " [0.44752205 0.4556789  0.48254018 0.20719893 0.16845822 0.46750162\n",
      "  0.88021891 0.60574258 0.32628635 0.19304035]\n",
      " [0.42775966 0.87068021 0.48418732 0.73107252 0.84963213 0.5629548\n",
      "  0.17217608 0.88929664 0.31336483 0.28339655]\n",
      " [0.59662835 0.40128056 0.12255702 0.08966182 0.52847844 0.67589495\n",
      "  0.78342007 0.11450283 0.85184359 0.02039256]\n",
      " [0.89367991 0.0202334  0.6033558  0.19456246 0.77747994 0.98947374\n",
      "  0.31015217 0.7688514  0.64938055 0.49343034]\n",
      " [0.40089755 0.52926333 0.37411995 0.03161565 0.5870084  0.72018722\n",
      "  0.53648681 0.57955469 0.08486396 0.48001486]\n",
      " [0.66118949 0.56573726 0.31033539 0.99305529 0.27987123 0.34480118\n",
      "  0.72574974 0.68216846 0.36063346 0.72895273]]\n",
      "0.020233401192701117\n",
      "0.9930552887422156\n"
     ]
    }
   ],
   "source": [
    "arr7=np.random.random((10,10))\n",
    "print(arr7)\n",
    "print(arr7.min())\n",
    "print(arr7.max())"
   ]
  },
  {
   "cell_type": "markdown",
   "metadata": {},
   "source": [
    "#### 14. Create a random vector of size 30 and find the mean value"
   ]
  },
  {
   "cell_type": "code",
   "execution_count": 25,
   "metadata": {},
   "outputs": [
    {
     "name": "stdout",
     "output_type": "stream",
     "text": [
      "[0.20589589 0.98910457 0.47301367 0.30477377 0.01561221 0.45184208\n",
      " 0.25913172 0.93951031 0.30251781 0.86513034 0.86931116 0.48185874\n",
      " 0.57645182 0.45536576 0.59766974 0.31490359 0.94265548 0.3541852\n",
      " 0.31824994 0.44598104 0.41454587 0.17737162 0.17098706 0.58868854\n",
      " 0.71659338 0.66896976 0.43654458 0.44535765 0.53437389 0.29729393]\n",
      "0.4871297042966533\n"
     ]
    }
   ],
   "source": [
    "arr8=np.random.random(30)\n",
    "print(arr8)\n",
    "print(arr8.mean())"
   ]
  },
  {
   "cell_type": "markdown",
   "metadata": {},
   "source": [
    "#### 15. Create a 2d array with 1 on the border and 0 inside"
   ]
  },
  {
   "cell_type": "code",
   "execution_count": 30,
   "metadata": {},
   "outputs": [
    {
     "name": "stdout",
     "output_type": "stream",
     "text": [
      "[[1. 1. 1. 1. 1.]\n",
      " [1. 0. 0. 0. 1.]\n",
      " [1. 0. 0. 0. 1.]\n",
      " [1. 0. 0. 0. 1.]\n",
      " [1. 1. 1. 1. 1.]]\n"
     ]
    }
   ],
   "source": [
    "n=5\n",
    "isl=np.zeros((n,n))\n",
    "isl[0]=1\n",
    "isl[n-1]=1\n",
    "for i in range(n):\n",
    "    isl[i][0]=1\n",
    "    isl[i][n-1]=1\n",
    "print(isl)"
   ]
  },
  {
   "cell_type": "markdown",
   "metadata": {},
   "source": [
    "#### 16. How to add a border (filled with 0's) around an existing array?"
   ]
  },
  {
   "cell_type": "code",
   "execution_count": 35,
   "metadata": {},
   "outputs": [
    {
     "name": "stdout",
     "output_type": "stream",
     "text": [
      "[[0.50658981 0.97946623 0.77205825 0.13323991 0.71758278]\n",
      " [0.96122712 0.35902041 0.85743744 0.21525761 0.91906196]\n",
      " [0.49655582 0.14951056 0.87838185 0.72823614 0.84750033]\n",
      " [0.19782547 0.46227477 0.78318111 0.86165848 0.67219889]\n",
      " [0.46510335 0.19421164 0.18836834 0.68485027 0.06185328]]\n",
      "[[0.         0.         0.         0.         0.        ]\n",
      " [0.         0.35902041 0.85743744 0.21525761 0.        ]\n",
      " [0.         0.14951056 0.87838185 0.72823614 0.        ]\n",
      " [0.         0.46227477 0.78318111 0.86165848 0.        ]\n",
      " [0.         0.         0.         0.         0.        ]]\n"
     ]
    }
   ],
   "source": [
    "n=5\n",
    "test=np.random.random((n,n))\n",
    "print(test)\n",
    "test[0]=0\n",
    "test[n-1]=0\n",
    "for i in range(n):\n",
    "    test[i][0]=0\n",
    "    test[i][n-1]=0\n",
    "print(test)"
   ]
  },
  {
   "cell_type": "markdown",
   "metadata": {},
   "source": [
    "#### 17. What is the result of the following expression?"
   ]
  },
  {
   "cell_type": "markdown",
   "metadata": {},
   "source": [
    "```python\n",
    "0 * np.nan\n",
    "np.nan == np.nan\n",
    "np.inf > np.nan\n",
    "np.nan - np.nan\n",
    "np.nan in set([np.nan])\n",
    "0.3 == 3 * 0.1\n",
    "```"
   ]
  },
  {
   "cell_type": "code",
   "execution_count": 37,
   "metadata": {},
   "outputs": [
    {
     "name": "stdout",
     "output_type": "stream",
     "text": [
      "nan\n",
      "False\n",
      "False\n",
      "nan\n",
      "True\n",
      "False\n"
     ]
    }
   ],
   "source": [
    "print(0*np.nan)\n",
    "print(np.nan == np.nan)\n",
    "print(np.inf > np.nan)\n",
    "print(np.nan - np.nan)\n",
    "print(np.nan in set([np.nan]))\n",
    "print(0.3 == 3 * 0.1)"
   ]
  },
  {
   "cell_type": "markdown",
   "metadata": {},
   "source": [
    "#### 18. Create a 5x5 matrix with values 1,2,3,4 just below the diagonal"
   ]
  },
  {
   "cell_type": "code",
   "execution_count": 40,
   "metadata": {},
   "outputs": [
    {
     "name": "stdout",
     "output_type": "stream",
     "text": [
      "[[0. 0. 0. 0. 0.]\n",
      " [1. 0. 0. 0. 0.]\n",
      " [0. 2. 0. 0. 0.]\n",
      " [0. 0. 3. 0. 0.]\n",
      " [0. 0. 0. 4. 0.]]\n"
     ]
    }
   ],
   "source": [
    "arr9=np.zeros((5,5))\n",
    "arr9[1][0]=1\n",
    "arr9[2][1]=2\n",
    "arr9[3][2]=3\n",
    "arr9[4][3]=4\n",
    "print(arr9)"
   ]
  },
  {
   "cell_type": "markdown",
   "metadata": {},
   "source": [
    "#### 19. Create a 8x8 matrix and fill it with a checkerboard pattern"
   ]
  },
  {
   "cell_type": "code",
   "execution_count": 41,
   "metadata": {},
   "outputs": [
    {
     "name": "stdout",
     "output_type": "stream",
     "text": [
      "[[0 1 0 1 0 1 0 1]\n",
      " [1 0 1 0 1 0 1 0]\n",
      " [0 1 0 1 0 1 0 1]\n",
      " [1 0 1 0 1 0 1 0]\n",
      " [0 1 0 1 0 1 0 1]\n",
      " [1 0 1 0 1 0 1 0]\n",
      " [0 1 0 1 0 1 0 1]\n",
      " [1 0 1 0 1 0 1 0]]\n"
     ]
    }
   ],
   "source": [
    "arr10 = np.zeros((8,8),dtype=int)\n",
    "arr10[1::2,::2] = 1\n",
    "arr10[::2,1::2] = 1\n",
    "print(arr10)"
   ]
  },
  {
   "cell_type": "markdown",
   "metadata": {},
   "source": [
    "#### 20. Consider a (6,7,8) shape array, what is the index (x,y,z) of the 100th element?"
   ]
  },
  {
   "cell_type": "code",
   "execution_count": 43,
   "metadata": {},
   "outputs": [
    {
     "data": {
      "text/plain": [
       "(1, 5, 4)"
      ]
     },
     "execution_count": 43,
     "metadata": {},
     "output_type": "execute_result"
    }
   ],
   "source": [
    "np.unravel_index(100,(6,7,8))"
   ]
  }
 ],
 "metadata": {
  "kernelspec": {
   "display_name": "Python 3",
   "language": "python",
   "name": "python3"
  },
  "language_info": {
   "codemirror_mode": {
    "name": "ipython",
    "version": 3
   },
   "file_extension": ".py",
   "mimetype": "text/x-python",
   "name": "python",
   "nbconvert_exporter": "python",
   "pygments_lexer": "ipython3",
   "version": "3.8.8"
  }
 },
 "nbformat": 4,
 "nbformat_minor": 1
}
